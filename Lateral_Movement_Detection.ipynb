{
  "nbformat": 4,
  "nbformat_minor": 0,
  "metadata": {
    "colab": {
      "name": "Untitled10.ipynb",
      "provenance": []
    },
    "kernelspec": {
      "name": "python3",
      "display_name": "Python 3"
    },
    "language_info": {
      "name": "python"
    }
  },
  "cells": [
    {
      "cell_type": "code",
      "metadata": {
        "id": "gOAC38kd7Ds9"
      },
      "source": [
        "import sys\n",
        "import os\n",
        "import re\n",
        "import urllib.request\n",
        "import json\n",
        "import datetime\n",
        "import numpy as np\n",
        "import pandas as pd\n",
        "import configparser\n",
        "import argparse\n",
        "import keras\n",
        "from keras.preprocessing import image\n",
        "from keras.models import Sequential\n",
        "from keras.layers import Dense"
      ],
      "execution_count": null,
      "outputs": []
    },
    {
      "cell_type": "code",
      "metadata": {
        "id": "6QrM-INVgfPN"
      },
      "source": [
        "train_path = \"~/datasets/command.csv\"\n",
        "test_path = \"~/datasets/test.csv\""
      ],
      "execution_count": null,
      "outputs": []
    },
    {
      "cell_type": "code",
      "metadata": {
        "id": "52EVaSb5Ht07"
      },
      "source": [
        "x_train = []\n",
        "y_train = []\n",
        "x_test = []\n",
        "y_test = []\n",
        "def loaddata(path):\n",
        "  X=[]\n",
        "  Y=[]\n",
        "  myFile = np.genfromtxt(path, delimiter=',', skip_header=1)\n",
        "  for i in range(sum(1 for row in myFile)):\n",
        "    n=0\n",
        "    arr =[]\n",
        "    for j in range(50):\n",
        "      if myFile[i][j]==1: n+=1\n",
        "    for j in range(51):\n",
        "      if j != 50:\n",
        "        arr.append(myFile[i][j])\n",
        "      else:\n",
        "        Y.append(myFile[i][j])\n",
        "    X.append(arr)\n",
        "\n",
        "\n",
        "  X = np.array(X, dtype = 'int32')\n",
        "  Y = np.array(Y, dtype = 'int32')\n",
        "  return X,Y\n",
        "x_train,y_train = loaddata(train_path)\n",
        "x_test,y_test = loaddata(test_path)"
      ],
      "execution_count": null,
      "outputs": []
    },
    {
      "cell_type": "code",
      "metadata": {
        "id": "Y2-th2qw6wt8"
      },
      "source": [
        "from sklearn.utils import shuffle\n",
        "from sklearn.model_selection import train_test_split\n",
        "x_train, y_train = shuffle(x_train, y_train, random_state=100)\n",
        "x_train, x_val, y_train, y_val = train_test_split(x_train, y_train, test_size = 0.05)"
      ],
      "execution_count": null,
      "outputs": []
    },
    {
      "cell_type": "code",
      "metadata": {
        "colab": {
          "base_uri": "https://localhost:8080/"
        },
        "id": "ovX0Q6g7NNeu",
        "outputId": "3cb8926a-e919-4ec9-fc9a-3f06726ace9c"
      },
      "source": [
        "print(len(x_train))\n",
        "print(len(y_train))\n",
        "print(len(x_val))\n",
        "print(len(y_val))\n",
        "print(len(x_test))\n",
        "print(len(y_test))"
      ],
      "execution_count": null,
      "outputs": [
        {
          "output_type": "stream",
          "text": [
            "1109\n",
            "1109\n",
            "59\n",
            "59\n",
            "44\n",
            "44\n"
          ],
          "name": "stdout"
        }
      ]
    },
    {
      "cell_type": "code",
      "metadata": {
        "colab": {
          "base_uri": "https://localhost:8080/",
          "height": 514
        },
        "id": "y2WICINaNba4",
        "outputId": "c780a5d7-86b1-4d33-b0c1-039b79f56c46"
      },
      "source": [
        "import matplotlib.pyplot as plt\n",
        "_, train_counts = np.unique(y_train, return_counts = True)\n",
        "_, val_counts = np.unique(y_val, return_counts = True)\n",
        "_, test_counts = np.unique(y_test, return_counts = True)\n",
        "\n",
        "# pd.DataFrame({'train': train_counts, \"validation\": val_counts, \"test\": test_counts}, index = ['0','1']).plot.bar()\n",
        "pd.DataFrame({'train': len(y_train), \"validation\": len(y_val), \"test\": len(y_test)}, index = ['0','1']).plot.bar()\n",
        "plt.show()\n",
        "\n",
        "plt.pie(train_counts,\n",
        "        explode=(0, 0) , \n",
        "        labels=['0','1'],\n",
        "        autopct='%1.1f%%')\n",
        "plt.axis('equal')\n",
        "plt.title('Proportion of each observed category')\n",
        "plt.show()"
      ],
      "execution_count": null,
      "outputs": [
        {
          "output_type": "display_data",
          "data": {
            "image/png": "[encoded data removed]",
            "text/plain": [
              "<Figure size 432x288 with 1 Axes>"
            ]
          },
          "metadata": {
            "tags": [],
            "needs_background": "light"
          }
        },
        {
          "output_type": "display_data",
          "data": {
            "image/png": "[encoded data removed]",
            "text/plain": [
              "<Figure size 432x288 with 1 Axes>"
            ]
          },
          "metadata": {
            "tags": []
          }
        }
      ]
    },
    {
      "cell_type": "code",
      "metadata": {
        "id": "1POcwoDnqmmV"
      },
      "source": [
        "EPOCHS = 50\n",
        "BATCH_SIZE = 64"
      ],
      "execution_count": null,
      "outputs": []
    },
    {
      "cell_type": "code",
      "metadata": {
        "colab": {
          "base_uri": "https://localhost:8080/"
        },
        "id": "EAFXI7fkprAz",
        "outputId": "a7531453-d418-428b-dd69-bfc4ce6cbcbd"
      },
      "source": [
        "from tensorflow.keras.layers import Conv1D, MaxPooling1D, Dense, InputLayer, Dropout, Embedding, LSTM, RNN\n",
        "from tensorflow.keras.models import Model, Sequential\n",
        "from tensorflow.keras.optimizers import Adam\n",
        "from keras.regularizers import l2\n",
        "from keras.callbacks import ReduceLROnPlateau, EarlyStopping\n",
        "\n",
        "modelMLP = Sequential()\n",
        "modelMLP.add(InputLayer(input_shape=(50,)))\n",
        "modelMLP.add(Dropout(0.25))\n",
        "modelMLP.add(Embedding(len(x_train), 32, input_length=50))\n",
        "modelMLP.add(Dense(units = 32,kernel_regularizer=l2(0.35), bias_regularizer=l2(0.35)))\n",
        "modelMLP.add(Conv1D(32,5,padding='valid',activation='relu',strides=1))\n",
        "modelMLP.add(MaxPooling1D(pool_size=4))\n",
        "modelMLP.add(LSTM(32))\n",
        "# kernel_initializer = 'normal', activation = 'relu',\n",
        "# modelMLP.add(Dropout(0.9))\n",
        "# modelMLP.add(Dropout(0.2))\n",
        "modelMLP.add(Dense(1, kernel_initializer = 'normal', activation = 'sigmoid'))\n",
        "modelMLP.summary()"
      ],
      "execution_count": null,
      "outputs": [
        {
          "output_type": "stream",
          "text": [
            "Model: \"sequential_46\"\n",
            "_________________________________________________________________\n",
            "Layer (type)                 Output Shape              Param #   \n",
            "=================================================================\n",
            "dropout_48 (Dropout)         (None, 50)                0         \n",
            "_________________________________________________________________\n",
            "embedding_34 (Embedding)     (None, 50, 32)            35488     \n",
            "_________________________________________________________________\n",
            "dense_85 (Dense)             (None, 50, 32)            1056      \n",
            "_________________________________________________________________\n",
            "conv1d_34 (Conv1D)           (None, 46, 32)            5152      \n",
            "_________________________________________________________________\n",
            "max_pooling1d_34 (MaxPooling (None, 11, 32)            0         \n",
            "_________________________________________________________________\n",
            "lstm_26 (LSTM)               (None, 32)                8320      \n",
            "_________________________________________________________________\n",
            "dense_86 (Dense)             (None, 1)                 33        \n",
            "=================================================================\n",
            "Total params: 50,049\n",
            "Trainable params: 50,049\n",
            "Non-trainable params: 0\n",
            "_________________________________________________________________\n"
          ],
          "name": "stdout"
        }
      ]
    },
    {
      "cell_type": "code",
      "metadata": {
        "colab": {
          "base_uri": "https://localhost:8080/"
        },
        "id": "Lsarux7Up57t",
        "outputId": "387a079c-ef3c-4c89-9bcd-a96d6e721510"
      },
      "source": [
        "optimizer = Adam()\n",
        "modelMLP.compile(optimizer, loss='binary_crossentropy', metrics=['accuracy'])\n",
        "# callback1 = ModelCheckpoint(filepath='', \n",
        "#                             save_best_only=True, save_weights_only=True,\n",
        "#                             monitor='val_accuracy',mode='max',verbose=1)\n",
        "callback2 = EarlyStopping(monitor='val_accuracy', min_delta=0.1, patience=5, verbose = 1, mode='max', restore_best_weights = True)\n",
        "callback3 = ReduceLROnPlateau(\n",
        "    monitor = 'val_accuracy', \n",
        "    # mode = 'max',\n",
        "    patience = 1, \n",
        "    verbose = 1, \n",
        "    factor = 0.1, \n",
        "    min_lr = 0.001)\n",
        "historyMLP = modelMLP.fit(x_train, y_train,\n",
        "                   epochs = EPOCHS,\n",
        "                   batch_size = BATCH_SIZE,\n",
        "                   validation_data=(x_val, y_val),\n",
        "                   callbacks = callback3)                   "
      ],
      "execution_count": null,
      "outputs": [
        {
          "output_type": "stream",
          "text": [
            "Epoch 1/50\n",
            "18/18 [==============================] - 3s 48ms/step - loss: 11.3547 - accuracy: 0.5996 - val_loss: 10.3408 - val_accuracy: 0.6949\n",
            "Epoch 2/50\n",
            "18/18 [==============================] - 0s 17ms/step - loss: 9.5667 - accuracy: 0.7277 - val_loss: 8.6682 - val_accuracy: 0.5593\n",
            "Epoch 3/50\n",
            "18/18 [==============================] - 0s 16ms/step - loss: 7.9312 - accuracy: 0.7899 - val_loss: 7.1306 - val_accuracy: 0.8814\n",
            "Epoch 4/50\n",
            "18/18 [==============================] - 0s 17ms/step - loss: 6.5587 - accuracy: 0.8251 - val_loss: 5.9581 - val_accuracy: 0.8644\n",
            "Epoch 5/50\n",
            "18/18 [==============================] - 0s 17ms/step - loss: 5.4475 - accuracy: 0.8431 - val_loss: 4.9490 - val_accuracy: 0.8475\n",
            "Epoch 6/50\n",
            "18/18 [==============================] - 0s 17ms/step - loss: 4.5231 - accuracy: 0.8449 - val_loss: 4.1157 - val_accuracy: 0.8475\n",
            "Epoch 7/50\n",
            "18/18 [==============================] - 0s 17ms/step - loss: 3.7506 - accuracy: 0.8584 - val_loss: 3.4113 - val_accuracy: 0.8475\n",
            "Epoch 8/50\n",
            "18/18 [==============================] - 0s 17ms/step - loss: 3.1242 - accuracy: 0.8593 - val_loss: 2.8210 - val_accuracy: 0.8644\n",
            "Epoch 9/50\n",
            "18/18 [==============================] - 0s 19ms/step - loss: 2.5812 - accuracy: 0.8747 - val_loss: 2.2941 - val_accuracy: 0.8814\n",
            "Epoch 10/50\n",
            "18/18 [==============================] - 0s 18ms/step - loss: 2.1508 - accuracy: 0.8711 - val_loss: 1.9056 - val_accuracy: 0.8814\n",
            "Epoch 11/50\n",
            "18/18 [==============================] - 0s 19ms/step - loss: 1.8043 - accuracy: 0.8674 - val_loss: 1.6214 - val_accuracy: 0.8644\n",
            "Epoch 12/50\n",
            "18/18 [==============================] - 0s 20ms/step - loss: 1.4910 - accuracy: 0.8801 - val_loss: 1.3866 - val_accuracy: 0.8644\n",
            "Epoch 13/50\n",
            "18/18 [==============================] - 0s 17ms/step - loss: 1.2528 - accuracy: 0.8783 - val_loss: 1.2209 - val_accuracy: 0.8475\n",
            "Epoch 14/50\n",
            "18/18 [==============================] - 0s 17ms/step - loss: 1.0699 - accuracy: 0.8819 - val_loss: 1.0243 - val_accuracy: 0.8644\n",
            "Epoch 15/50\n",
            "18/18 [==============================] - 0s 17ms/step - loss: 0.9242 - accuracy: 0.8711 - val_loss: 0.8587 - val_accuracy: 0.8644\n",
            "Epoch 16/50\n",
            "18/18 [==============================] - 0s 17ms/step - loss: 0.7709 - accuracy: 0.8936 - val_loss: 0.7630 - val_accuracy: 0.8644\n",
            "Epoch 17/50\n",
            "18/18 [==============================] - 0s 16ms/step - loss: 0.6791 - accuracy: 0.8882 - val_loss: 0.6814 - val_accuracy: 0.8644\n",
            "Epoch 18/50\n",
            "18/18 [==============================] - 0s 19ms/step - loss: 0.6002 - accuracy: 0.8765 - val_loss: 0.6072 - val_accuracy: 0.8814\n",
            "Epoch 19/50\n",
            "18/18 [==============================] - 0s 16ms/step - loss: 0.5365 - accuracy: 0.8801 - val_loss: 0.5388 - val_accuracy: 0.8814\n",
            "Epoch 20/50\n",
            "18/18 [==============================] - 0s 16ms/step - loss: 0.5195 - accuracy: 0.8539 - val_loss: 0.5126 - val_accuracy: 0.8814\n",
            "Epoch 21/50\n",
            "18/18 [==============================] - 0s 17ms/step - loss: 0.4414 - accuracy: 0.8792 - val_loss: 0.5147 - val_accuracy: 0.8475\n",
            "Epoch 22/50\n",
            "18/18 [==============================] - 0s 17ms/step - loss: 0.4155 - accuracy: 0.8855 - val_loss: 0.4024 - val_accuracy: 0.8814\n",
            "Epoch 23/50\n",
            "18/18 [==============================] - 0s 17ms/step - loss: 0.3907 - accuracy: 0.8819 - val_loss: 0.3722 - val_accuracy: 0.8814\n",
            "Epoch 24/50\n",
            "18/18 [==============================] - 0s 18ms/step - loss: 0.3562 - accuracy: 0.8864 - val_loss: 0.3328 - val_accuracy: 0.8983\n",
            "Epoch 25/50\n",
            "18/18 [==============================] - 0s 17ms/step - loss: 0.3608 - accuracy: 0.8864 - val_loss: 0.3102 - val_accuracy: 0.8983\n",
            "Epoch 26/50\n",
            "18/18 [==============================] - 0s 17ms/step - loss: 0.3520 - accuracy: 0.8774 - val_loss: 0.3720 - val_accuracy: 0.8814\n",
            "Epoch 27/50\n",
            "18/18 [==============================] - 0s 17ms/step - loss: 0.3349 - accuracy: 0.8801 - val_loss: 0.4887 - val_accuracy: 0.8136\n",
            "Epoch 28/50\n",
            "18/18 [==============================] - 0s 17ms/step - loss: 0.3301 - accuracy: 0.8783 - val_loss: 0.4002 - val_accuracy: 0.8644\n",
            "Epoch 29/50\n",
            "18/18 [==============================] - 0s 16ms/step - loss: 0.3088 - accuracy: 0.8864 - val_loss: 0.2773 - val_accuracy: 0.8983\n",
            "Epoch 30/50\n",
            "18/18 [==============================] - 0s 17ms/step - loss: 0.3186 - accuracy: 0.8882 - val_loss: 0.3720 - val_accuracy: 0.8814\n",
            "Epoch 31/50\n",
            "18/18 [==============================] - 0s 17ms/step - loss: 0.2938 - accuracy: 0.8801 - val_loss: 0.5331 - val_accuracy: 0.8305\n",
            "Epoch 32/50\n",
            "18/18 [==============================] - 0s 17ms/step - loss: 0.3113 - accuracy: 0.8837 - val_loss: 0.3971 - val_accuracy: 0.8644\n",
            "Epoch 33/50\n",
            "18/18 [==============================] - 0s 16ms/step - loss: 0.3289 - accuracy: 0.8774 - val_loss: 0.2795 - val_accuracy: 0.8983\n",
            "Epoch 34/50\n",
            "18/18 [==============================] - 0s 18ms/step - loss: 0.3021 - accuracy: 0.8837 - val_loss: 0.3475 - val_accuracy: 0.8814\n",
            "Epoch 35/50\n",
            "18/18 [==============================] - 0s 16ms/step - loss: 0.2972 - accuracy: 0.8855 - val_loss: 0.2890 - val_accuracy: 0.8983\n",
            "Epoch 36/50\n",
            "18/18 [==============================] - 0s 18ms/step - loss: 0.3138 - accuracy: 0.8747 - val_loss: 0.3207 - val_accuracy: 0.8814\n",
            "Epoch 37/50\n",
            "18/18 [==============================] - 0s 18ms/step - loss: 0.2729 - accuracy: 0.8891 - val_loss: 0.2957 - val_accuracy: 0.8983\n",
            "Epoch 38/50\n",
            "18/18 [==============================] - 0s 18ms/step - loss: 0.2788 - accuracy: 0.8918 - val_loss: 0.3264 - val_accuracy: 0.8814\n",
            "Epoch 39/50\n",
            "18/18 [==============================] - 0s 16ms/step - loss: 0.2924 - accuracy: 0.8900 - val_loss: 0.2512 - val_accuracy: 0.9153\n",
            "Epoch 40/50\n",
            "18/18 [==============================] - 0s 17ms/step - loss: 0.2749 - accuracy: 0.9026 - val_loss: 0.4347 - val_accuracy: 0.8644\n",
            "Epoch 41/50\n",
            "18/18 [==============================] - 0s 16ms/step - loss: 0.2925 - accuracy: 0.8846 - val_loss: 0.2900 - val_accuracy: 0.8983\n",
            "Epoch 42/50\n",
            "18/18 [==============================] - 0s 16ms/step - loss: 0.3131 - accuracy: 0.8765 - val_loss: 0.3074 - val_accuracy: 0.8983\n",
            "Epoch 43/50\n",
            "18/18 [==============================] - 0s 18ms/step - loss: 0.2751 - accuracy: 0.8999 - val_loss: 0.3639 - val_accuracy: 0.8814\n",
            "Epoch 44/50\n",
            "18/18 [==============================] - 0s 17ms/step - loss: 0.2848 - accuracy: 0.8954 - val_loss: 0.2757 - val_accuracy: 0.8983\n",
            "Epoch 45/50\n",
            "18/18 [==============================] - 0s 17ms/step - loss: 0.2850 - accuracy: 0.8918 - val_loss: 0.3536 - val_accuracy: 0.8814\n",
            "Epoch 46/50\n",
            "18/18 [==============================] - 0s 17ms/step - loss: 0.2725 - accuracy: 0.8873 - val_loss: 0.3758 - val_accuracy: 0.8814\n",
            "Epoch 47/50\n",
            "18/18 [==============================] - 0s 17ms/step - loss: 0.2959 - accuracy: 0.8864 - val_loss: 0.4604 - val_accuracy: 0.8644\n",
            "Epoch 48/50\n",
            "18/18 [==============================] - 0s 16ms/step - loss: 0.2991 - accuracy: 0.8674 - val_loss: 0.3450 - val_accuracy: 0.8814\n",
            "Epoch 49/50\n",
            "18/18 [==============================] - 0s 16ms/step - loss: 0.2970 - accuracy: 0.8810 - val_loss: 0.3053 - val_accuracy: 0.8983\n",
            "Epoch 50/50\n",
            "18/18 [==============================] - 0s 17ms/step - loss: 0.2768 - accuracy: 0.9008 - val_loss: 0.2812 - val_accuracy: 0.8983\n"
          ],
          "name": "stdout"
        }
      ]
    },
    {
      "cell_type": "code",
      "metadata": {
        "colab": {
          "base_uri": "https://localhost:8080/"
        },
        "id": "YubCNcWirWtx",
        "outputId": "1920421c-764d-4372-dbb6-3ad8e7cc1eb3"
      },
      "source": [
        "predictions = modelMLP.predict_classes(x_val,verbose=0) "
      ],
      "execution_count": null,
      "outputs": [
        {
          "output_type": "stream",
          "text": [
            "/usr/local/lib/python3.7/dist-packages/tensorflow/python/keras/engine/sequential.py:455: UserWarning: `model.predict_classes()` is deprecated and will be removed after 2021-01-01. Please use instead:* `np.argmax(model.predict(x), axis=-1)`,   if your model does multi-class classification   (e.g. if it uses a `softmax` last-layer activation).* `(model.predict(x) > 0.5).astype(\"int32\")`,   if your model does binary classification   (e.g. if it uses a `sigmoid` last-layer activation).\n",
            "  warnings.warn('`model.predict_classes()` is deprecated and '\n"
          ],
          "name": "stderr"
        }
      ]
    },
    {
      "cell_type": "code",
      "metadata": {
        "colab": {
          "base_uri": "https://localhost:8080/"
        },
        "id": "qo8uA-ThtOL_",
        "outputId": "cf4bf145-0125-4dc5-cebe-cb13f4f752b6"
      },
      "source": [
        "for i in range(len(y_test)):\n",
        "\tprint('=> %d (expected %d)' % (predictions[i], y_val[i]))"
      ],
      "execution_count": null,
      "outputs": [
        {
          "output_type": "stream",
          "text": [
            "=> 1 (expected 1)\n",
            "=> 1 (expected 0)\n",
            "=> 0 (expected 0)\n",
            "=> 0 (expected 0)\n",
            "=> 1 (expected 1)\n",
            "=> 0 (expected 0)\n",
            "=> 1 (expected 1)\n",
            "=> 0 (expected 0)\n",
            "=> 0 (expected 0)\n",
            "=> 0 (expected 0)\n",
            "=> 1 (expected 0)\n",
            "=> 1 (expected 1)\n",
            "=> 0 (expected 0)\n",
            "=> 0 (expected 0)\n",
            "=> 1 (expected 0)\n",
            "=> 1 (expected 1)\n",
            "=> 1 (expected 0)\n",
            "=> 1 (expected 1)\n",
            "=> 1 (expected 1)\n",
            "=> 0 (expected 0)\n",
            "=> 1 (expected 1)\n",
            "=> 1 (expected 1)\n",
            "=> 0 (expected 0)\n",
            "=> 0 (expected 0)\n",
            "=> 1 (expected 1)\n",
            "=> 0 (expected 0)\n",
            "=> 0 (expected 0)\n",
            "=> 1 (expected 1)\n",
            "=> 0 (expected 0)\n",
            "=> 1 (expected 1)\n",
            "=> 0 (expected 0)\n",
            "=> 1 (expected 1)\n",
            "=> 0 (expected 0)\n",
            "=> 0 (expected 0)\n",
            "=> 1 (expected 1)\n",
            "=> 1 (expected 1)\n",
            "=> 1 (expected 1)\n",
            "=> 1 (expected 1)\n",
            "=> 0 (expected 0)\n",
            "=> 0 (expected 0)\n",
            "=> 0 (expected 0)\n",
            "=> 1 (expected 0)\n",
            "=> 0 (expected 0)\n",
            "=> 0 (expected 0)\n"
          ],
          "name": "stdout"
        }
      ]
    },
    {
      "cell_type": "code",
      "metadata": {
        "colab": {
          "base_uri": "https://localhost:8080/"
        },
        "id": "gUgPL6SjGaoF",
        "outputId": "0ee14a8d-f937-49d1-d650-47d487bd404d"
      },
      "source": [
        "modelMLP.evaluate(x_val, y_val)"
      ],
      "execution_count": null,
      "outputs": [
        {
          "output_type": "stream",
          "text": [
            "2/2 [==============================] - 0s 8ms/step - loss: 0.2812 - accuracy: 0.8983\n"
          ],
          "name": "stdout"
        },
        {
          "output_type": "execute_result",
          "data": {
            "text/plain": [
              "[0.2811780273914337, 0.8983050584793091]"
            ]
          },
          "metadata": {
            "tags": []
          },
          "execution_count": 199
        }
      ]
    },
    {
      "cell_type": "code",
      "metadata": {
        "id": "0uip88a9Z35l"
      },
      "source": [
        "modelMLP.save(\"NNLSTM.h5\")"
      ],
      "execution_count": null,
      "outputs": []
    },
    {
      "cell_type": "code",
      "metadata": {
        "id": "OIremYGEA92b"
      },
      "source": [
        "def plot_accuracy_loss_chart(history):\n",
        "    epochs = [i for i in range(EPOCHS)]\n",
        "    fig , ax = plt.subplots(1,2)\n",
        "    train_acc = history.history['accuracy']\n",
        "    train_loss = history.history['loss']\n",
        "    val_acc = history.history['val_accuracy']\n",
        "    val_loss = history.history['val_loss']\n",
        "    fig.set_size_inches(20,10)\n",
        "    ax[0].plot(epochs , train_acc , 'go-' , label = 'Training Accuracy')\n",
        "    ax[0].plot(epochs , val_acc , 'ro-' , label = 'Validation Accuracy')\n",
        "    ax[0].set_title('Training & Validation Accuracy')\n",
        "    ax[0].legend()\n",
        "    ax[0].set_xlabel(\"Epochs\")\n",
        "    ax[0].set_ylabel(\"Accuracy\")\n",
        "\n",
        "    ax[1].plot(epochs , train_loss , 'g-o' , label = 'Training Loss')\n",
        "    ax[1].plot(epochs , val_loss , 'r-o' , label = 'Validation Loss')\n",
        "    ax[1].set_title('Training & Validation Loss')\n",
        "    ax[1].legend()\n",
        "    ax[1].set_xlabel(\"Epochs\")\n",
        "    ax[1].set_ylabel(\"Training & Validation Loss\")\n",
        "    plt.show()"
      ],
      "execution_count": null,
      "outputs": []
    },
    {
      "cell_type": "code",
      "metadata": {
        "colab": {
          "base_uri": "https://localhost:8080/",
          "height": 621
        },
        "id": "VtBW_56ltvJC",
        "outputId": "d56dfada-fb63-4f02-cfd2-68270a7be2f5"
      },
      "source": [
        "plot_accuracy_loss_chart(historyMLP)"
      ],
      "execution_count": null,
      "outputs": [
        {
          "output_type": "display_data",
          "data": {
            "image/png": "[encoded data removed]",
            "text/plain": [
              "<Figure size 1440x720 with 2 Axes>"
            ]
          },
          "metadata": {
            "tags": [],
            "needs_background": "light"
          }
        }
      ]
    },
    {
      "cell_type": "code",
      "metadata": {
        "colab": {
          "base_uri": "https://localhost:8080/",
          "height": 111
        },
        "id": "9h0q__Dh0pLe",
        "outputId": "bc723693-6d8f-4deb-ea8e-8a20c9eae451"
      },
      "source": [
        "\n",
        "from sklearn.metrics import classification_report\n",
        "\n",
        "\n",
        "from sklearn.metrics import confusion_matrix, plot_confusion_matrix\n",
        "cm = confusion_matrix(y_val, predictions)\n",
        "cm = pd.DataFrame(cm, index = ['0', '1'], columns = ['0', '1'])\n",
        "cm"
      ],
      "execution_count": null,
      "outputs": [
        {
          "output_type": "execute_result",
          "data": {
            "text/html": [
              "<div>\n",
              "<style scoped>\n",
              "    .dataframe tbody tr th:only-of-type {\n",
              "        vertical-align: middle;\n",
              "    }\n",
              "\n",
              "    .dataframe tbody tr th {\n",
              "        vertical-align: top;\n",
              "    }\n",
              "\n",
              "    .dataframe thead th {\n",
              "        text-align: right;\n",
              "    }\n",
              "</style>\n",
              "<table border=\"1\" class=\"dataframe\">\n",
              "  <thead>\n",
              "    <tr style=\"text-align: right;\">\n",
              "      <th></th>\n",
              "      <th>0</th>\n",
              "      <th>1</th>\n",
              "    </tr>\n",
              "  </thead>\n",
              "  <tbody>\n",
              "    <tr>\n",
              "      <th>0</th>\n",
              "      <td>29</td>\n",
              "      <td>6</td>\n",
              "    </tr>\n",
              "    <tr>\n",
              "      <th>1</th>\n",
              "      <td>0</td>\n",
              "      <td>24</td>\n",
              "    </tr>\n",
              "  </tbody>\n",
              "</table>\n",
              "</div>"
            ],
            "text/plain": [
              "    0   1\n",
              "0  29   6\n",
              "1   0  24"
            ]
          },
          "metadata": {
            "tags": []
          },
          "execution_count": 204
        }
      ]
    },
    {
      "cell_type": "code",
      "metadata": {
        "id": "ScSpUJ4C0pLh",
        "colab": {
          "base_uri": "https://localhost:8080/"
        },
        "outputId": "32874c99-5107-41be-8260-3cba4b850145"
      },
      "source": [
        "print(classification_report(\n",
        "    y_val, \n",
        "    predictions, \n",
        "    target_names = ['0', '1']))"
      ],
      "execution_count": null,
      "outputs": [
        {
          "output_type": "stream",
          "text": [
            "              precision    recall  f1-score   support\n",
            "\n",
            "           0       1.00      0.83      0.91        35\n",
            "           1       0.80      1.00      0.89        24\n",
            "\n",
            "    accuracy                           0.90        59\n",
            "   macro avg       0.90      0.91      0.90        59\n",
            "weighted avg       0.92      0.90      0.90        59\n",
            "\n"
          ],
          "name": "stdout"
        }
      ]
    },
    {
      "cell_type": "code",
      "metadata": {
        "id": "j6oC5bzvfPew"
      },
      "source": [
        "# model_predictions_MLP = modelMLP.predict_proba(x_test)\n",
        "# model_roc_score_MLP = roc_auc_score(y_test, \n",
        "#                                 model_predictions_MLP)\n",
        "# model_roc_score_MLP"
      ],
      "execution_count": null,
      "outputs": []
    },
    {
      "cell_type": "code",
      "metadata": {
        "colab": {
          "base_uri": "https://localhost:8080/"
        },
        "id": "xmIHl7H9a6Z5",
        "outputId": "62f40fc4-2f0d-48c5-a037-d9cb7d46b284"
      },
      "source": [
        "from tensorflow.keras.models import load_model\n",
        "model = load_model('NNLSTM.h5')\n",
        "\n",
        "print(pd.DataFrame(confusion_matrix(y_test, model.predict_classes(x_test)), \n",
        "                   index = ['0', '1'], \n",
        "                   columns = ['0', '1']))\n",
        "\n",
        "print(classification_report(y_test, \n",
        "                            model.predict_classes(x_test),\n",
        "                            target_names = ['0', '1']))"
      ],
      "execution_count": null,
      "outputs": [
        {
          "output_type": "stream",
          "text": [
            "/usr/local/lib/python3.7/dist-packages/tensorflow/python/keras/engine/sequential.py:455: UserWarning: `model.predict_classes()` is deprecated and will be removed after 2021-01-01. Please use instead:* `np.argmax(model.predict(x), axis=-1)`,   if your model does multi-class classification   (e.g. if it uses a `softmax` last-layer activation).* `(model.predict(x) > 0.5).astype(\"int32\")`,   if your model does binary classification   (e.g. if it uses a `sigmoid` last-layer activation).\n",
            "  warnings.warn('`model.predict_classes()` is deprecated and '\n"
          ],
          "name": "stderr"
        },
        {
          "output_type": "stream",
          "text": [
            "   0   1\n",
            "0  0   0\n",
            "1  4  40\n",
            "              precision    recall  f1-score   support\n",
            "\n",
            "           0       0.00      0.00      0.00         0\n",
            "           1       1.00      0.91      0.95        44\n",
            "\n",
            "    accuracy                           0.91        44\n",
            "   macro avg       0.50      0.45      0.48        44\n",
            "weighted avg       1.00      0.91      0.95        44\n",
            "\n"
          ],
          "name": "stdout"
        },
        {
          "output_type": "stream",
          "text": [
            "/usr/local/lib/python3.7/dist-packages/tensorflow/python/keras/engine/sequential.py:455: UserWarning: `model.predict_classes()` is deprecated and will be removed after 2021-01-01. Please use instead:* `np.argmax(model.predict(x), axis=-1)`,   if your model does multi-class classification   (e.g. if it uses a `softmax` last-layer activation).* `(model.predict(x) > 0.5).astype(\"int32\")`,   if your model does binary classification   (e.g. if it uses a `sigmoid` last-layer activation).\n",
            "  warnings.warn('`model.predict_classes()` is deprecated and '\n",
            "/usr/local/lib/python3.7/dist-packages/sklearn/metrics/_classification.py:1272: UndefinedMetricWarning: Recall and F-score are ill-defined and being set to 0.0 in labels with no true samples. Use `zero_division` parameter to control this behavior.\n",
            "  _warn_prf(average, modifier, msg_start, len(result))\n"
          ],
          "name": "stderr"
        }
      ]
    }
  ]
}
